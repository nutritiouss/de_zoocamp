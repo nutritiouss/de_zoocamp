{
 "cells": [
  {
   "cell_type": "code",
   "execution_count": 3,
   "id": "3ab7f95e",
   "metadata": {},
   "outputs": [],
   "source": [
    "from pathlib import Path\n",
    "import pandas as pd\n",
    "from prefect import flow, task\n",
    "from prefect_gcp.cloud_storage import GcsBucket\n",
    "from IPython import display\n",
    "\n"
   ]
  },
  {
   "cell_type": "code",
   "execution_count": 36,
   "id": "b0a66035",
   "metadata": {},
   "outputs": [],
   "source": [
    "\n",
    "#@task(retries=3)\n",
    "def ingest_data(dataset_url):\n",
    "\tdf = pd.read_parquet(dataset_url, engine='pyarrow')\n",
    "\treturn df\n",
    "\n",
    "#@task(log_prints=True)\n",
    "def transform_data(df):\n",
    "\tdf['tpep_pickup_datetime'] = pd.to_datetime(df['tpep_pickup_datetime'])\n",
    "\tdf['tpep_dropoff_datetime'] = pd.to_datetime(df['tpep_dropoff_datetime'])\n",
    "\treturn df\n",
    "\n"
   ]
  },
  {
   "cell_type": "code",
   "execution_count": null,
   "id": "d6de8011",
   "metadata": {},
   "outputs": [],
   "source": [
    "def etl_gcs_to_bq(year, month, color):\n",
    "\n",
    "    path = extract_from_gcs(color, year, month)\n",
    "    df = transform(path)\n",
    "    numRowsProcessed = df.shape[0]\n",
    "    print(f\"Rows processed: {numRowsProcessed}\")\n",
    "    write_bq(df)\n",
    "\n",
    "\n",
    "@flow()\n",
    "def etl_parent_flow(color: str = \"yellow\", months: list[int] = [1,2], year: int = 2021):\n",
    "    for month in months:\n",
    "        etl_gcs_to_bq(year, month, color)\n",
    "    \n",
    "\n",
    "if __name__ == \"__main__\":\n",
    "    color=\"yellow\"\n",
    "    months=[2,3]\n",
    "    year=2019\n",
    "    etl_parent_flow(color,months, year)"
   ]
  },
  {
   "cell_type": "code",
   "execution_count": 63,
   "id": "878a2ea3",
   "metadata": {},
   "outputs": [
    {
     "name": "stdout",
     "output_type": "stream",
     "text": [
      "green_tripdata_2019-04\n"
     ]
    },
    {
     "data": {
      "text/plain": [
       "(567852, 20)"
      ]
     },
     "metadata": {},
     "output_type": "display_data"
    },
    {
     "name": "stdout",
     "output_type": "stream",
     "text": [
      "CPU times: user 337 ms, sys: 175 ms, total: 512 ms\n",
      "Wall time: 4.92 s\n"
     ]
    }
   ],
   "source": [
    "%%time\n",
    "\n",
    "\n",
    "#@task(log_prints=True)\n",
    "def export_data_gcs(path):\n",
    "\tgcs_block = GcsBucket.load(\"zoom-gcs\")\n",
    "\tgcs_block.upload_from_path(from_path=path, to_path=path)\n",
    "\n",
    "\treturn path\n",
    "\n",
    "\n",
    "#@flow()\n",
    "def etl_web_to_gcs(year, month, color):\n",
    "\tlink_body = f\"{color}_tripdata_{year}-{month:0>2}\"\n",
    "\tprint(link_body)\n",
    "\tdataset_url = f\"https://d37ci6vzurychx.cloudfront.net/trip-data/{link_body}.parquet\"\n",
    "\tdf = ingest_data(dataset_url)\n",
    "\tdisplay(df.shape)\n",
    "#\tdf_clean = transform_data(df)\n",
    "#\tpath = export_data_local(df_clean, color, dataset_file)\n",
    "#\texport_data_gcs(path)\n",
    "\n",
    "\n",
    "if __name__ == \"__main__\":\n",
    "\tcolor = \"green\"\n",
    "\tmonth = 4\n",
    "\tyear = 2019\n",
    "\tetl_web_to_gcs(year, month, color)\n"
   ]
  },
  {
   "cell_type": "code",
   "execution_count": 67,
   "id": "b6d5f985",
   "metadata": {},
   "outputs": [
    {
     "data": {
      "text/plain": [
       "14915990"
      ]
     },
     "execution_count": 67,
     "metadata": {},
     "output_type": "execute_result"
    }
   ],
   "source": [
    "7049370+7866620"
   ]
  },
  {
   "cell_type": "code",
   "execution_count": 56,
   "id": "b64a096e",
   "metadata": {},
   "outputs": [],
   "source": [
    "df = pd.read_parquet('https://d37ci6vzurychx.cloudfront.net/trip-data/green_tripdata_2020-01.parquet', engine='pyarrow')"
   ]
  },
  {
   "cell_type": "code",
   "execution_count": 59,
   "id": "1dc2b913",
   "metadata": {},
   "outputs": [
    {
     "data": {
      "text/plain": [
       "(447770, 20)"
      ]
     },
     "execution_count": 59,
     "metadata": {},
     "output_type": "execute_result"
    }
   ],
   "source": [
    "df.shape\n"
   ]
  }
 ],
 "metadata": {
  "kernelspec": {
   "display_name": "de_zoomcamp",
   "language": "python",
   "name": "de_zoomcamp"
  },
  "language_info": {
   "codemirror_mode": {
    "name": "ipython",
    "version": 3
   },
   "file_extension": ".py",
   "mimetype": "text/x-python",
   "name": "python",
   "nbconvert_exporter": "python",
   "pygments_lexer": "ipython3",
   "version": "3.10.9"
  }
 },
 "nbformat": 4,
 "nbformat_minor": 5
}
